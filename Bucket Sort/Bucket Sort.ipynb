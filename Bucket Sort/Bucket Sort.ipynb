{
 "cells": [
  {
   "cell_type": "code",
   "execution_count": 1,
   "metadata": {},
   "outputs": [],
   "source": [
    "import timeit\n",
    "import matplotlib.pyplot as plt\n",
    "from numpy import *"
   ]
  },
  {
   "cell_type": "code",
   "execution_count": 2,
   "metadata": {},
   "outputs": [],
   "source": [
    "def bucket_sort(lista):\n",
    "    largest = max(lista)\n",
    "    length = len(lista)\n",
    "    size = largest/length\n",
    " \n",
    "    buckets = [[] for _ in range(length)]\n",
    "    for i in range(length):\n",
    "        j = int(lista[i]/size)\n",
    "        if j != length:\n",
    "            buckets[j].append(lista[i])\n",
    "        else:\n",
    "            buckets[length - 1].append(lista[i])\n",
    " \n",
    "    for i in range(length):\n",
    "        insertion_sort(buckets[i])\n",
    " \n",
    "    result = []\n",
    "    for i in range(length):\n",
    "        result = result + buckets[i]\n",
    " \n",
    "    return result\n",
    "def insertion_sort(lista):\n",
    "    for i in range(1, len(lista)):\n",
    "        temp = lista[i]\n",
    "        j = i - 1\n",
    "        while (j >= 0 and temp < lista[j]):\n",
    "            lista[j + 1] = lista[j]\n",
    "            j = j - 1\n",
    "        lista[j + 1] = temp"
   ]
  },
  {
   "cell_type": "code",
   "execution_count": 3,
   "metadata": {},
   "outputs": [
    {
     "name": "stdout",
     "output_type": "stream",
     "text": [
      "[0, 1, 3, 6, 15, 35]\n"
     ]
    }
   ],
   "source": [
    "vetor = [6,35,0,15,3,1]\n",
    "x = bucket_sort(vetor)\n",
    "print(x)"
   ]
  }
 ],
 "metadata": {
  "kernelspec": {
   "display_name": "Python 3",
   "language": "python",
   "name": "python3"
  },
  "language_info": {
   "codemirror_mode": {
    "name": "ipython",
    "version": 3
   },
   "file_extension": ".py",
   "mimetype": "text/x-python",
   "name": "python",
   "nbconvert_exporter": "python",
   "pygments_lexer": "ipython3",
   "version": "3.6.5"
  }
 },
 "nbformat": 4,
 "nbformat_minor": 2
}
